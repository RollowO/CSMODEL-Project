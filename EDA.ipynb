{
 "cells": [
  {
   "cell_type": "markdown",
   "metadata": {},
   "source": [
    "## Imported Libraries"
   ]
  },
  {
   "cell_type": "code",
   "execution_count": 1,
   "metadata": {},
   "outputs": [
    {
     "ename": "ModuleNotFoundError",
     "evalue": "No module named 'numpy'",
     "output_type": "error",
     "traceback": [
      "\u001b[1;31m---------------------------------------------------------------------------\u001b[0m",
      "\u001b[1;31mModuleNotFoundError\u001b[0m                       Traceback (most recent call last)",
      "Cell \u001b[1;32mIn[1], line 1\u001b[0m\n\u001b[1;32m----> 1\u001b[0m \u001b[38;5;28;01mimport\u001b[39;00m \u001b[38;5;21;01mnumpy\u001b[39;00m \u001b[38;5;28;01mas\u001b[39;00m \u001b[38;5;21;01mnp\u001b[39;00m\n\u001b[0;32m      2\u001b[0m \u001b[38;5;28;01mimport\u001b[39;00m \u001b[38;5;21;01mpandas\u001b[39;00m \u001b[38;5;28;01mas\u001b[39;00m \u001b[38;5;21;01mpd\u001b[39;00m\n\u001b[0;32m      3\u001b[0m \u001b[38;5;28;01mimport\u001b[39;00m \u001b[38;5;21;01mmatplotlib\u001b[39;00m\u001b[38;5;21;01m.\u001b[39;00m\u001b[38;5;21;01mpyplot\u001b[39;00m \u001b[38;5;28;01mas\u001b[39;00m \u001b[38;5;21;01mplt\u001b[39;00m\n",
      "\u001b[1;31mModuleNotFoundError\u001b[0m: No module named 'numpy'"
     ]
    }
   ],
   "source": [
    "import numpy as np\n",
    "import pandas as pd\n",
    "import matplotlib.pyplot as plt\n",
    "import seaborn as sns\n",
    "from scipy.stats import norm\n",
    "from scipy.stats import ttest_ind\n",
    "pd.set_option(\"display.max_rows\", 200)"
   ]
  },
  {
   "cell_type": "markdown",
   "metadata": {},
   "source": [
    "## Read CSV File"
   ]
  },
  {
   "cell_type": "code",
   "execution_count": 4,
   "metadata": {},
   "outputs": [
    {
     "ename": "NameError",
     "evalue": "name 'pd' is not defined",
     "output_type": "error",
     "traceback": [
      "\u001b[1;31m---------------------------------------------------------------------------\u001b[0m",
      "\u001b[1;31mNameError\u001b[0m                                 Traceback (most recent call last)",
      "Cell \u001b[1;32mIn[4], line 1\u001b[0m\n\u001b[1;32m----> 1\u001b[0m df \u001b[38;5;241m=\u001b[39m \u001b[43mpd\u001b[49m\u001b[38;5;241m.\u001b[39mread_csv(\u001b[38;5;124m\"\u001b[39m\u001b[38;5;124mFIES PUF 2012 Vol.1.CSV\u001b[39m\u001b[38;5;124m\"\u001b[39m)\n\u001b[0;32m      2\u001b[0m df\n",
      "\u001b[1;31mNameError\u001b[0m: name 'pd' is not defined"
     ]
    }
   ],
   "source": [
    "df = pd.read_csv(\"FIES PUF 2012 Vol.1.CSV\")\n",
    "df"
   ]
  },
  {
   "cell_type": "code",
   "execution_count": 59,
   "metadata": {},
   "outputs": [
    {
     "data": {
      "text/plain": [
       "W_REGN                    int64\n",
       "W_OID                     int64\n",
       "W_SHSN                    int64\n",
       "W_HCN                     int64\n",
       "URB                       int64\n",
       "RSTR                      int64\n",
       "PSU                       int64\n",
       "BWEIGHT                 float64\n",
       "RFACT                   float64\n",
       "FSIZE                   float64\n",
       "AGRI_SAL                  int64\n",
       "NONAGRI_SAL               int64\n",
       "WAGES                     int64\n",
       "NETSHARE                  int64\n",
       "CASH_ABROAD               int64\n",
       "CASH_DOMESTIC             int64\n",
       "RENTALS_REC               int64\n",
       "INTEREST                  int64\n",
       "PENSION                   int64\n",
       "DIVIDENDS                 int64\n",
       "OTHER_SOURCE              int64\n",
       "NET_RECEIPT               int64\n",
       "REGFT                     int64\n",
       "NET_CFG                   int64\n",
       "NET_LPR                   int64\n",
       "NET_FISH                  int64\n",
       "NET_FOR                   int64\n",
       "NET_RET                   int64\n",
       "NET_MFG                   int64\n",
       "NET_COM                   int64\n",
       "NET_TRANS                 int64\n",
       "NET_MIN                   int64\n",
       "NET_CONS                  int64\n",
       "NET_NEC                   int64\n",
       "EAINC                     int64\n",
       "TOINC                     int64\n",
       "LOSSES                    int64\n",
       "T_BREAD                   int64\n",
       "T_MEAT                    int64\n",
       "T_FISH                    int64\n",
       "T_MILK                    int64\n",
       "T_OIL                     int64\n",
       "T_FRUIT                   int64\n",
       "T_VEG                     int64\n",
       "T_SUGAR                   int64\n",
       "T_FOOD_NEC                int64\n",
       "T_COFFEE                  int64\n",
       "T_MINERAL                 int64\n",
       "T_ALCOHOL                 int64\n",
       "T_TOBACCO                 int64\n",
       "T_OTHER_VEG               int64\n",
       "T_FOOD_HOME               int64\n",
       "T_FOOD_OUTSIDE            int64\n",
       "T_FOOD                    int64\n",
       "T_CLOTH                   int64\n",
       "T_FURNISHING              int64\n",
       "T_HEALTH                  int64\n",
       "T_HOUSING_WATER           int64\n",
       "T_ACTRENT                 int64\n",
       "T_RENTVAL                 int64\n",
       "T_IMPUTED_RENT            int64\n",
       "T_BIMPUTED_RENT           int64\n",
       "T_TRANSPORT               int64\n",
       "T_COMMUNICATION           int64\n",
       "T_RECREATION              int64\n",
       "T_EDUCATION               int64\n",
       "T_MISCELLANEOUS           int64\n",
       "T_OTHER_EXPENDITURE       int64\n",
       "T_OTHER_DISBURSEMENT      int64\n",
       "T_NFOOD                   int64\n",
       "T_TOTEX                   int64\n",
       "T_TOTDIS                  int64\n",
       "T_OTHREC                  int64\n",
       "T_TOREC                   int64\n",
       "FOOD_ACCOM_SRVC           int64\n",
       "SEX                       int64\n",
       "AGE                       int64\n",
       "MS                        int64\n",
       "HGC                       int64\n",
       "JOB                       int64\n",
       "OCCUP                    object\n",
       "KB                       object\n",
       "CW                       object\n",
       "HHTYPE                    int64\n",
       "MEMBERS                   int64\n",
       "AGELESS5                 object\n",
       "AGE5_17                  object\n",
       "EMPLOYED_PAY             object\n",
       "EMPLOYED_PROF            object\n",
       "SPOUSE_EMP                int64\n",
       "BLDG_TYPE                 int64\n",
       "ROOF                      int64\n",
       "WALLS                     int64\n",
       "TENURE                    int64\n",
       "HSE_ALTERTN               int64\n",
       "TOILET                    int64\n",
       "ELECTRIC                  int64\n",
       "WATER                     int64\n",
       "DISTANCE                 object\n",
       "RADIO_QTY                object\n",
       "TV_QTY                   object\n",
       "CD_QTY                   object\n",
       "STEREO_QTY               object\n",
       "REF_QTY                  object\n",
       "WASH_QTY                 object\n",
       "AIRCON_QTY               object\n",
       "CAR_QTY                  object\n",
       "LANDLINE_QTY             object\n",
       "CELLPHONE_QTY            object\n",
       "PC_QTY                   object\n",
       "OVEN_QTY                 object\n",
       "MOTOR_BANCA_QTY          object\n",
       "MOTORCYCLE_QTY           object\n",
       "POP_ADJ                 float64\n",
       "PCINC                   float64\n",
       "NATPC                     int64\n",
       "NATDC                     int64\n",
       "REGDC                     int64\n",
       "REGPC                     int64\n",
       "dtype: object"
      ]
     },
     "execution_count": 59,
     "metadata": {},
     "output_type": "execute_result"
    }
   ],
   "source": [
    "# Get only people who have jobs\n",
    "selected_df = df[[\"W_REGN\",\"W_OID\",\"W_SHSN\",\"W_HCN\",\"NONAGRI_SAL\",\"EMPLOYED_PAY\",\"OCCUP\",\"JOB\",\"SEX\"]]"
   ]
  },
  {
   "cell_type": "markdown",
   "metadata": {},
   "source": [
    "## Data Cleaning\n",
    "* W_REGN\n",
    "* NONAGRI_SAL\n",
    "* EMPLOYED_PAY\n",
    "* OCCUP\n",
    "* JOB"
   ]
  },
  {
   "cell_type": "code",
   "execution_count": 91,
   "metadata": {},
   "outputs": [
    {
     "data": {
      "text/html": [
       "<div>\n",
       "<style scoped>\n",
       "    .dataframe tbody tr th:only-of-type {\n",
       "        vertical-align: middle;\n",
       "    }\n",
       "\n",
       "    .dataframe tbody tr th {\n",
       "        vertical-align: top;\n",
       "    }\n",
       "\n",
       "    .dataframe thead th {\n",
       "        text-align: right;\n",
       "    }\n",
       "</style>\n",
       "<table border=\"1\" class=\"dataframe\">\n",
       "  <thead>\n",
       "    <tr style=\"text-align: right;\">\n",
       "      <th></th>\n",
       "      <th>OCCUP</th>\n",
       "      <th>JOB</th>\n",
       "    </tr>\n",
       "  </thead>\n",
       "  <tbody>\n",
       "    <tr>\n",
       "      <th>0</th>\n",
       "      <td></td>\n",
       "      <td>2</td>\n",
       "    </tr>\n",
       "    <tr>\n",
       "      <th>1</th>\n",
       "      <td>1314</td>\n",
       "      <td>1</td>\n",
       "    </tr>\n",
       "    <tr>\n",
       "      <th>2</th>\n",
       "      <td></td>\n",
       "      <td>2</td>\n",
       "    </tr>\n",
       "    <tr>\n",
       "      <th>3</th>\n",
       "      <td>6111</td>\n",
       "      <td>1</td>\n",
       "    </tr>\n",
       "    <tr>\n",
       "      <th>4</th>\n",
       "      <td>5220</td>\n",
       "      <td>1</td>\n",
       "    </tr>\n",
       "    <tr>\n",
       "      <th>5</th>\n",
       "      <td>6212</td>\n",
       "      <td>1</td>\n",
       "    </tr>\n",
       "    <tr>\n",
       "      <th>6</th>\n",
       "      <td></td>\n",
       "      <td>2</td>\n",
       "    </tr>\n",
       "    <tr>\n",
       "      <th>7</th>\n",
       "      <td>6111</td>\n",
       "      <td>1</td>\n",
       "    </tr>\n",
       "    <tr>\n",
       "      <th>8</th>\n",
       "      <td>1314</td>\n",
       "      <td>1</td>\n",
       "    </tr>\n",
       "    <tr>\n",
       "      <th>9</th>\n",
       "      <td>6114</td>\n",
       "      <td>1</td>\n",
       "    </tr>\n",
       "    <tr>\n",
       "      <th>10</th>\n",
       "      <td>6111</td>\n",
       "      <td>1</td>\n",
       "    </tr>\n",
       "    <tr>\n",
       "      <th>11</th>\n",
       "      <td>6111</td>\n",
       "      <td>1</td>\n",
       "    </tr>\n",
       "    <tr>\n",
       "      <th>12</th>\n",
       "      <td>6111</td>\n",
       "      <td>1</td>\n",
       "    </tr>\n",
       "    <tr>\n",
       "      <th>13</th>\n",
       "      <td>5132</td>\n",
       "      <td>1</td>\n",
       "    </tr>\n",
       "    <tr>\n",
       "      <th>14</th>\n",
       "      <td>1314</td>\n",
       "      <td>1</td>\n",
       "    </tr>\n",
       "    <tr>\n",
       "      <th>15</th>\n",
       "      <td></td>\n",
       "      <td>2</td>\n",
       "    </tr>\n",
       "    <tr>\n",
       "      <th>16</th>\n",
       "      <td>6111</td>\n",
       "      <td>1</td>\n",
       "    </tr>\n",
       "    <tr>\n",
       "      <th>17</th>\n",
       "      <td>6111</td>\n",
       "      <td>1</td>\n",
       "    </tr>\n",
       "    <tr>\n",
       "      <th>18</th>\n",
       "      <td>7122</td>\n",
       "      <td>1</td>\n",
       "    </tr>\n",
       "    <tr>\n",
       "      <th>19</th>\n",
       "      <td>9211</td>\n",
       "      <td>1</td>\n",
       "    </tr>\n",
       "    <tr>\n",
       "      <th>20</th>\n",
       "      <td></td>\n",
       "      <td>2</td>\n",
       "    </tr>\n",
       "    <tr>\n",
       "      <th>21</th>\n",
       "      <td>5220</td>\n",
       "      <td>1</td>\n",
       "    </tr>\n",
       "    <tr>\n",
       "      <th>22</th>\n",
       "      <td>6111</td>\n",
       "      <td>1</td>\n",
       "    </tr>\n",
       "    <tr>\n",
       "      <th>23</th>\n",
       "      <td>1316</td>\n",
       "      <td>1</td>\n",
       "    </tr>\n",
       "    <tr>\n",
       "      <th>24</th>\n",
       "      <td>4121</td>\n",
       "      <td>1</td>\n",
       "    </tr>\n",
       "    <tr>\n",
       "      <th>25</th>\n",
       "      <td></td>\n",
       "      <td>2</td>\n",
       "    </tr>\n",
       "    <tr>\n",
       "      <th>26</th>\n",
       "      <td>6111</td>\n",
       "      <td>1</td>\n",
       "    </tr>\n",
       "    <tr>\n",
       "      <th>27</th>\n",
       "      <td>1130</td>\n",
       "      <td>1</td>\n",
       "    </tr>\n",
       "    <tr>\n",
       "      <th>28</th>\n",
       "      <td>8322</td>\n",
       "      <td>1</td>\n",
       "    </tr>\n",
       "    <tr>\n",
       "      <th>29</th>\n",
       "      <td>1316</td>\n",
       "      <td>1</td>\n",
       "    </tr>\n",
       "    <tr>\n",
       "      <th>30</th>\n",
       "      <td></td>\n",
       "      <td>2</td>\n",
       "    </tr>\n",
       "    <tr>\n",
       "      <th>31</th>\n",
       "      <td>1314</td>\n",
       "      <td>1</td>\n",
       "    </tr>\n",
       "    <tr>\n",
       "      <th>32</th>\n",
       "      <td></td>\n",
       "      <td>2</td>\n",
       "    </tr>\n",
       "    <tr>\n",
       "      <th>33</th>\n",
       "      <td>2331</td>\n",
       "      <td>1</td>\n",
       "    </tr>\n",
       "    <tr>\n",
       "      <th>34</th>\n",
       "      <td>1316</td>\n",
       "      <td>1</td>\n",
       "    </tr>\n",
       "    <tr>\n",
       "      <th>35</th>\n",
       "      <td>3118</td>\n",
       "      <td>1</td>\n",
       "    </tr>\n",
       "    <tr>\n",
       "      <th>36</th>\n",
       "      <td>9132</td>\n",
       "      <td>1</td>\n",
       "    </tr>\n",
       "    <tr>\n",
       "      <th>37</th>\n",
       "      <td>7241</td>\n",
       "      <td>1</td>\n",
       "    </tr>\n",
       "    <tr>\n",
       "      <th>38</th>\n",
       "      <td>6111</td>\n",
       "      <td>1</td>\n",
       "    </tr>\n",
       "    <tr>\n",
       "      <th>39</th>\n",
       "      <td></td>\n",
       "      <td>2</td>\n",
       "    </tr>\n",
       "    <tr>\n",
       "      <th>40</th>\n",
       "      <td>1312</td>\n",
       "      <td>1</td>\n",
       "    </tr>\n",
       "  </tbody>\n",
       "</table>\n",
       "</div>"
      ],
      "text/plain": [
       "   OCCUP  JOB\n",
       "0           2\n",
       "1   1314    1\n",
       "2           2\n",
       "3   6111    1\n",
       "4   5220    1\n",
       "5   6212    1\n",
       "6           2\n",
       "7   6111    1\n",
       "8   1314    1\n",
       "9   6114    1\n",
       "10  6111    1\n",
       "11  6111    1\n",
       "12  6111    1\n",
       "13  5132    1\n",
       "14  1314    1\n",
       "15          2\n",
       "16  6111    1\n",
       "17  6111    1\n",
       "18  7122    1\n",
       "19  9211    1\n",
       "20          2\n",
       "21  5220    1\n",
       "22  6111    1\n",
       "23  1316    1\n",
       "24  4121    1\n",
       "25          2\n",
       "26  6111    1\n",
       "27  1130    1\n",
       "28  8322    1\n",
       "29  1316    1\n",
       "30          2\n",
       "31  1314    1\n",
       "32          2\n",
       "33  2331    1\n",
       "34  1316    1\n",
       "35  3118    1\n",
       "36  9132    1\n",
       "37  7241    1\n",
       "38  6111    1\n",
       "39          2\n",
       "40  1312    1"
      ]
     },
     "execution_count": 91,
     "metadata": {},
     "output_type": "execute_result"
    }
   ],
   "source": [
    "selected_df = selected_df.drop_duplicates()"
   ]
  },
  {
   "cell_type": "code",
   "execution_count": 60,
   "metadata": {},
   "outputs": [
    {
     "data": {
      "text/plain": [
       "(40171, 4)"
      ]
     },
     "execution_count": 60,
     "metadata": {},
     "output_type": "execute_result"
    }
   ],
   "source": [
    "selected_df = selected_df.dropna(subset=[\"OCCUP\"])"
   ]
  },
  {
   "cell_type": "code",
   "execution_count": null,
   "metadata": {},
   "outputs": [],
   "source": [
    "selected_df = selected_df[selected_df[\"JOB\"] != 2]"
   ]
  },
  {
   "cell_type": "code",
   "execution_count": null,
   "metadata": {},
   "outputs": [],
   "source": [
    "selected_df = selected_df[selected_df[\"NONAGRI_SAL\"] > 0]"
   ]
  },
  {
   "cell_type": "code",
   "execution_count": null,
   "metadata": {},
   "outputs": [],
   "source": [
    "selected_df.loc[:, \"EMPLOYED_PAY\"] = pd.to_numeric(selected_df[\"EMPLOYED_PAY\"], errors='coerce')\n",
    "selected_df.loc[:, \"EMPLOYED_PAY\"] = selected_df[\"EMPLOYED_PAY\"].fillna(0).astype(int)\n",
    "employed_df = selected_df[[\"EMPLOYED_PAY\"]]"
   ]
  },
  {
   "cell_type": "code",
   "execution_count": null,
   "metadata": {},
   "outputs": [],
   "source": [
    "selected_df = selected_df[selected_df[\"EMPLOYED_PAY\"] == 1]"
   ]
  },
  {
   "cell_type": "code",
   "execution_count": 84,
   "metadata": {},
   "outputs": [
    {
     "data": {
      "text/plain": [
       "W_REGN\n",
       "13    377,550.15\n",
       "41    263,845.54\n",
       "3     257,516.48\n",
       "14    250,204.47\n",
       "1     205,236.51\n",
       "7     202,649.68\n",
       "6     201,246.62\n",
       "2     192,994.08\n",
       "11    189,222.12\n",
       "10    181,611.94\n",
       "Name: TOINC, dtype: object"
      ]
     },
     "execution_count": 84,
     "metadata": {},
     "output_type": "execute_result"
    }
   ],
   "source": [
    "clean_df = selected_df\n",
    "clean_df"
   ]
  },
  {
   "cell_type": "markdown",
   "metadata": {},
   "source": [
    "## EDA Questions\n",
    "\n",
    "* How does the average salary of the top job type in each region compare to the region's overall average salary?\n",
    "* Which region has the highest overall average salary for non-agricultural jobs?\n",
    "* What are the most common occupations in the dataset, and how many people are employed in each occupation across different regions?\n",
    "* Is there a notable difference in the salary distribution by gender for sole earners in non-agricultural roles?"
   ]
  },
  {
   "cell_type": "markdown",
   "metadata": {},
   "source": [
    "Q1: How does the average salary of the top job type in each region compare to the region's overall average salary?"
   ]
  },
  {
   "cell_type": "code",
   "execution_count": 2,
   "metadata": {},
   "outputs": [
    {
     "ename": "NameError",
     "evalue": "name 'df' is not defined",
     "output_type": "error",
     "traceback": [
      "\u001b[1;31m---------------------------------------------------------------------------\u001b[0m",
      "\u001b[1;31mNameError\u001b[0m                                 Traceback (most recent call last)",
      "Cell \u001b[1;32mIn[2], line 1\u001b[0m\n\u001b[1;32m----> 1\u001b[0m occ_df \u001b[38;5;241m=\u001b[39m \u001b[43mdf\u001b[49m[\u001b[38;5;124m\"\u001b[39m\u001b[38;5;124mOCCUP\u001b[39m\u001b[38;5;124m\"\u001b[39m]\n\u001b[0;32m      2\u001b[0m occ_df\n",
      "\u001b[1;31mNameError\u001b[0m: name 'df' is not defined"
     ]
    }
   ],
   "source": [
    "region_avg_salary = clean_df.groupby(\"W_REGN\")[\"NONAGRI_SAL\"].mean().reset_index()\n",
    "region_avg_salary.columns = ['W_REGN', 'AVG_SAL']"
   ]
  },
  {
   "cell_type": "code",
   "execution_count": null,
   "metadata": {},
   "outputs": [],
   "source": [
    "job_type_avg_salary = clean_df.groupby([\"W_REGN\", \"OCCUP\"])[\"NONAGRI_SAL\"].mean().reset_index()\n",
    "\n",
    "top_job_by_region = job_type_avg_salary.loc[job_type_avg_salary.groupby('W_REGN')['NONAGRI_SAL'].idxmax()]\n",
    "top_job_by_region.columns = ['W_REGN', 'Top_Job_Type', 'Top_Job_Avg_Salary']\n",
    "top_job_by_region.head(20)"
   ]
  },
  {
   "cell_type": "code",
   "execution_count": null,
   "metadata": {},
   "outputs": [],
   "source": [
    "comparison_df = pd.merge(region_avg_salary, top_job_by_region, on=\"W_REGN\")\n",
    "comparison_df"
   ]
  },
  {
   "cell_type": "code",
   "execution_count": null,
   "metadata": {},
   "outputs": [],
   "source": [
    "comparison_df['difference'] = comparison_df['Top_Job_Avg_Salary'] - comparison_df['AVG_SAL']\n",
    "comparison_df"
   ]
  },
  {
   "cell_type": "markdown",
   "metadata": {},
   "source": [
    "Q2: Which Region has the highest overall average salary for non-agricultural jobs?"
   ]
  },
  {
   "cell_type": "code",
   "execution_count": null,
   "metadata": {},
   "outputs": [],
   "source": [
    "grouped_regions = clean_df.groupby([\"W_REGN\"])\n",
    "grouped_regions = grouped_regions.agg({\"NONAGRI_SAL\" : \"mean\"})\n",
    "grouped_regions"
   ]
  },
  {
   "cell_type": "code",
   "execution_count": null,
   "metadata": {},
   "outputs": [],
   "source": [
    "highest_mean_salary = grouped_regions[\"NONAGRI_SAL\"].max()\n",
    "highest_region = grouped_regions[\"NONAGRI_SAL\"].idxmax()\n",
    "print(f\"Region {highest_region} has the highest mean non-agricultural salary: \", \"{:.2f}\".format(highest_mean_salary))"
   ]
  },
  {
   "cell_type": "markdown",
   "metadata": {},
   "source": [
    "Q3: What are the top 10 common occupations in the dataset, and how many people are employed in each occupation across different regions?\n",
    "-- mode for each occupation\n",
    "-- sort\n",
    "-- get top 10"
   ]
  },
  {
   "cell_type": "code",
   "execution_count": null,
   "metadata": {},
   "outputs": [],
   "source": [
    "print(\"These are the top 10 most common occupation numbers\")\n",
    "occupations_df = clean_df['OCCUP']\n",
    "occupations_df.value_counts().head(10)"
   ]
  },
  {
   "cell_type": "markdown",
   "metadata": {},
   "source": [
    "Q4: Is there a notable difference in the salary distribution by gender for sole earners in non-agricultural roles?"
   ]
  },
  {
   "cell_type": "code",
   "execution_count": null,
   "metadata": {},
   "outputs": [],
   "source": [
    "print(\"H0: There is no significant difference in the salary distribution of male and female sole earners in non-agricultural roles\")\n",
    "print(\"HA: There is a significant difference in the salary distribution of male and female sole earners in non-agricultural roles\")\n",
    "Sex1 = clean_df[clean_df[\"SEX\"] == 1][\"NONAGRI_SAL\"]\n",
    "Sex2 = clean_df[clean_df[\"SEX\"] == 2][\"NONAGRI_SAL\"]\n",
    "t_stat, p_value = stats.ttest_ind(Sex1, Sex2)\n",
    "\n",
    "print(f\"T-statistic: {t_stat}, P-value: {p_value}\")\n",
    "print(\"Answer: Do not reject the null hypothesis, there is no significant difference in the salary distribution of male and female sole earners in non-agricultural roles\")"
   ]
  }
 ],
 "metadata": {
  "kernelspec": {
   "display_name": "Python 3",
   "language": "python",
   "name": "python3"
  },
  "language_info": {
   "codemirror_mode": {
    "name": "ipython",
    "version": 3
   },
   "file_extension": ".py",
   "mimetype": "text/x-python",
   "name": "python",
   "nbconvert_exporter": "python",
   "pygments_lexer": "ipython3",
   "version": "3.10.10"
  }
 },
 "nbformat": 4,
 "nbformat_minor": 2
}
